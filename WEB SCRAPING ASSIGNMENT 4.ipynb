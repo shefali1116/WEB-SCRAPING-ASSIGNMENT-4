{
 "cells": [
  {
   "cell_type": "code",
   "execution_count": 2,
   "metadata": {},
   "outputs": [
    {
     "name": "stdout",
     "output_type": "stream",
     "text": [
      "Collecting selenium\n",
      "  Downloading selenium-3.141.0-py2.py3-none-any.whl (904 kB)\n",
      "Requirement already satisfied: urllib3 in c:\\users\\dell\\anaconda3\\lib\\site-packages (from selenium) (1.25.9)\n",
      "Installing collected packages: selenium\n",
      "Successfully installed selenium-3.141.0\n"
     ]
    }
   ],
   "source": [
    "#lets first install the selenium library\n",
    "! pip install selenium"
   ]
  },
  {
   "cell_type": "code",
   "execution_count": 2,
   "metadata": {},
   "outputs": [],
   "source": [
    "#import all the required libraries\n",
    "import pandas as pd\n",
    "import selenium\n",
    "from selenium import webdriver\n",
    "from selenium.common.exceptions import StaleElementReferenceException, NoSuchElementException"
   ]
  },
  {
   "cell_type": "code",
   "execution_count": 68,
   "metadata": {},
   "outputs": [],
   "source": [
    "driver=webdriver.Chrome(r\"c://chromedriver.exe\")"
   ]
  },
  {
   "cell_type": "markdown",
   "metadata": {},
   "source": [
    "# 1. Scrape the details of most viewed videos on YouTube from Wikipedia:\n",
    "\n",
    "Url= https://en.wikipedia.org/wiki/List_of_most-viewed_YouTube_videos\n",
    "\n",
    "You need to find following details:\n",
    "\n",
    "A) Rank\n",
    "\n",
    "B) Name\n",
    "\n",
    "C) Artist\n",
    "\n",
    "D) Upload date\n",
    "\n",
    "E) Views"
   ]
  },
  {
   "cell_type": "code",
   "execution_count": 3,
   "metadata": {},
   "outputs": [],
   "source": [
    "driver.get(\"https://en.wikipedia.org/wiki/List_of_most-viewed_YouTube_videos\")"
   ]
  },
  {
   "cell_type": "code",
   "execution_count": 4,
   "metadata": {},
   "outputs": [],
   "source": [
    "# creating empty lists for scraping data\n",
    "Rank=[]\n",
    "Name=[]\n",
    "Artist=[]\n",
    "Upload_date=[]\n",
    "Views=[]"
   ]
  },
  {
   "cell_type": "code",
   "execution_count": 8,
   "metadata": {},
   "outputs": [
    {
     "data": {
      "text/plain": [
       "[]"
      ]
     },
     "execution_count": 8,
     "metadata": {},
     "output_type": "execute_result"
    }
   ],
   "source": [
    "#scraping the Rank\n",
    "urls=[i.get_attribute(\"href\")for i in driver.find_elements_by_xpath(\"//table[@class='wikitable sortable jquery-tablesorter']\")]\n",
    "for url in urls[0:10]:\n",
    "    try:\n",
    "        \n",
    "        driver.get(url)\n",
    "        rank=driver.find_element_by_xpath(\"//tr[@class='center']/td\").text\n",
    "        Rank.append(rank[0])\n",
    "    except NoSuchElementException :\n",
    "        Rank.append(\"---\")"
   ]
  },
  {
   "cell_type": "code",
   "execution_count": 17,
   "metadata": {},
   "outputs": [
    {
     "data": {
      "text/plain": [
       "[]"
      ]
     },
     "execution_count": 17,
     "metadata": {},
     "output_type": "execute_result"
    }
   ],
   "source": [
    "#scraping the Rank\n",
    "rank=driver.find_elements_by_xpath(\"//table[@class='wikitable sortable jquery-tablesorter']/td\")\n",
    "for i in rank:\n",
    "    rank=i.text\n",
    "    Rank.append(r) \n",
    "Rank[0:2]"
   ]
  },
  {
   "cell_type": "code",
   "execution_count": 22,
   "metadata": {},
   "outputs": [
    {
     "data": {
      "text/plain": [
       "['music videos',\n",
       " 'Baby Shark Dance',\n",
       " 'Baby Shark Dance',\n",
       " 'Baby Shark Dance',\n",
       " 'Cocomelon – Nursery Rhymes',\n",
       " 'Major Lazer Official',\n",
       " 'Cocomelon – Nursery Rhymes',\n",
       " 'Cocomelon – Nursery Rhymes',\n",
       " 'The Gummy Bear Song',\n",
       " 'Fueled By Ramen']"
      ]
     },
     "execution_count": 22,
     "metadata": {},
     "output_type": "execute_result"
    }
   ],
   "source": [
    "#scraping the Name\n",
    "name=driver.find_elements_by_xpath(\"//a[@class='mw-redirect']\")\n",
    "for i in name:\n",
    "    n=i.text\n",
    "    Name.append(n) \n",
    "Name[0:10]"
   ]
  },
  {
   "cell_type": "code",
   "execution_count": 14,
   "metadata": {},
   "outputs": [],
   "source": [
    "#scraping the Upload_date\n",
    "urls=[i.get_attribute(\"href\")for i in driver.find_elements_by_xpath(\"//a[@class='/wiki/Pinkfong']\")]\n",
    "for url in urls[0:10]:\n",
    "    try:\n",
    "        \n",
    "        driver.get(url)\n",
    "        date=driver.find_element_by_xpath(\"//a[@class='right']/td\").text\n",
    "        Upload_date.append(date[0])\n",
    "    except NoSuchElementException :\n",
    "        Upload_date.append(\"---\")"
   ]
  },
  {
   "cell_type": "code",
   "execution_count": 15,
   "metadata": {},
   "outputs": [],
   "source": [
    "#scraping the Artist\n",
    "urls=[i.get_attribute(\"href\")for i in driver.find_elements_by_xpath(\"//a[@class='/wiki/Luis_Fonsi']\")]\n",
    "for url in urls[0:10]:\n",
    "    try:\n",
    "        \n",
    "        driver.get(url)\n",
    "        raw_artst=driver.find_element_by_xpath(\"//td[@class='/wiki/Luis_Fonsi']/a\").text\n",
    "        Artist.append(raw_artst[0])\n",
    "    except NoSuchElementException :\n",
    "        Artist.append(\"---\")"
   ]
  },
  {
   "cell_type": "code",
   "execution_count": 19,
   "metadata": {},
   "outputs": [],
   "source": [
    "#scraping the Views\n",
    "urls=[i.get_attribute(\"href\")for i in driver.find_elements_by_xpath(\"//a[@class='/wiki/Pinkfong']\")]\n",
    "for url in urls[0:10]:\n",
    "    try:\n",
    "        \n",
    "        driver.get(url)\n",
    "        view=driver.find_element_by_xpath(\"//a[@class='center']/td\").text\n",
    "        Views.append(view[0])\n",
    "    except NoSuchElementException :\n",
    "        Views.append(\"---\")"
   ]
  },
  {
   "cell_type": "code",
   "execution_count": 25,
   "metadata": {},
   "outputs": [
    {
     "ename": "ValueError",
     "evalue": "arrays must all be same length",
     "output_type": "error",
     "traceback": [
      "\u001b[1;31m---------------------------------------------------------------------------\u001b[0m",
      "\u001b[1;31mValueError\u001b[0m                                Traceback (most recent call last)",
      "\u001b[1;32m<ipython-input-25-98a4a4f66c6b>\u001b[0m in \u001b[0;36m<module>\u001b[1;34m\u001b[0m\n\u001b[0;32m      1\u001b[0m \u001b[1;31m# creating the dataframe from the scraped data and taking only first 10\u001b[0m\u001b[1;33m\u001b[0m\u001b[1;33m\u001b[0m\u001b[1;33m\u001b[0m\u001b[0m\n\u001b[1;32m----> 2\u001b[1;33m df=pd.DataFrame({\"rank\":Rank[0:10],\"n\":Name[0:10],\"raw_artst\":Artist[0:10],\n\u001b[0m\u001b[0;32m      3\u001b[0m                \"date\":Upload_date[0:10],\"view\":Views[0:10]})\n\u001b[0;32m      4\u001b[0m \u001b[0mdf\u001b[0m\u001b[1;33m.\u001b[0m\u001b[0mhead\u001b[0m\u001b[1;33m(\u001b[0m\u001b[1;33m)\u001b[0m\u001b[1;33m\u001b[0m\u001b[1;33m\u001b[0m\u001b[0m\n\u001b[0;32m      5\u001b[0m \u001b[1;33m\u001b[0m\u001b[0m\n",
      "\u001b[1;32m~\\anaconda3\\lib\\site-packages\\pandas\\core\\frame.py\u001b[0m in \u001b[0;36m__init__\u001b[1;34m(self, data, index, columns, dtype, copy)\u001b[0m\n\u001b[0;32m    433\u001b[0m             )\n\u001b[0;32m    434\u001b[0m         \u001b[1;32melif\u001b[0m \u001b[0misinstance\u001b[0m\u001b[1;33m(\u001b[0m\u001b[0mdata\u001b[0m\u001b[1;33m,\u001b[0m \u001b[0mdict\u001b[0m\u001b[1;33m)\u001b[0m\u001b[1;33m:\u001b[0m\u001b[1;33m\u001b[0m\u001b[1;33m\u001b[0m\u001b[0m\n\u001b[1;32m--> 435\u001b[1;33m             \u001b[0mmgr\u001b[0m \u001b[1;33m=\u001b[0m \u001b[0minit_dict\u001b[0m\u001b[1;33m(\u001b[0m\u001b[0mdata\u001b[0m\u001b[1;33m,\u001b[0m \u001b[0mindex\u001b[0m\u001b[1;33m,\u001b[0m \u001b[0mcolumns\u001b[0m\u001b[1;33m,\u001b[0m \u001b[0mdtype\u001b[0m\u001b[1;33m=\u001b[0m\u001b[0mdtype\u001b[0m\u001b[1;33m)\u001b[0m\u001b[1;33m\u001b[0m\u001b[1;33m\u001b[0m\u001b[0m\n\u001b[0m\u001b[0;32m    436\u001b[0m         \u001b[1;32melif\u001b[0m \u001b[0misinstance\u001b[0m\u001b[1;33m(\u001b[0m\u001b[0mdata\u001b[0m\u001b[1;33m,\u001b[0m \u001b[0mma\u001b[0m\u001b[1;33m.\u001b[0m\u001b[0mMaskedArray\u001b[0m\u001b[1;33m)\u001b[0m\u001b[1;33m:\u001b[0m\u001b[1;33m\u001b[0m\u001b[1;33m\u001b[0m\u001b[0m\n\u001b[0;32m    437\u001b[0m             \u001b[1;32mimport\u001b[0m \u001b[0mnumpy\u001b[0m\u001b[1;33m.\u001b[0m\u001b[0mma\u001b[0m\u001b[1;33m.\u001b[0m\u001b[0mmrecords\u001b[0m \u001b[1;32mas\u001b[0m \u001b[0mmrecords\u001b[0m\u001b[1;33m\u001b[0m\u001b[1;33m\u001b[0m\u001b[0m\n",
      "\u001b[1;32m~\\anaconda3\\lib\\site-packages\\pandas\\core\\internals\\construction.py\u001b[0m in \u001b[0;36minit_dict\u001b[1;34m(data, index, columns, dtype)\u001b[0m\n\u001b[0;32m    252\u001b[0m             \u001b[0marr\u001b[0m \u001b[1;32mif\u001b[0m \u001b[1;32mnot\u001b[0m \u001b[0mis_datetime64tz_dtype\u001b[0m\u001b[1;33m(\u001b[0m\u001b[0marr\u001b[0m\u001b[1;33m)\u001b[0m \u001b[1;32melse\u001b[0m \u001b[0marr\u001b[0m\u001b[1;33m.\u001b[0m\u001b[0mcopy\u001b[0m\u001b[1;33m(\u001b[0m\u001b[1;33m)\u001b[0m \u001b[1;32mfor\u001b[0m \u001b[0marr\u001b[0m \u001b[1;32min\u001b[0m \u001b[0marrays\u001b[0m\u001b[1;33m\u001b[0m\u001b[1;33m\u001b[0m\u001b[0m\n\u001b[0;32m    253\u001b[0m         ]\n\u001b[1;32m--> 254\u001b[1;33m     \u001b[1;32mreturn\u001b[0m \u001b[0marrays_to_mgr\u001b[0m\u001b[1;33m(\u001b[0m\u001b[0marrays\u001b[0m\u001b[1;33m,\u001b[0m \u001b[0mdata_names\u001b[0m\u001b[1;33m,\u001b[0m \u001b[0mindex\u001b[0m\u001b[1;33m,\u001b[0m \u001b[0mcolumns\u001b[0m\u001b[1;33m,\u001b[0m \u001b[0mdtype\u001b[0m\u001b[1;33m=\u001b[0m\u001b[0mdtype\u001b[0m\u001b[1;33m)\u001b[0m\u001b[1;33m\u001b[0m\u001b[1;33m\u001b[0m\u001b[0m\n\u001b[0m\u001b[0;32m    255\u001b[0m \u001b[1;33m\u001b[0m\u001b[0m\n\u001b[0;32m    256\u001b[0m \u001b[1;33m\u001b[0m\u001b[0m\n",
      "\u001b[1;32m~\\anaconda3\\lib\\site-packages\\pandas\\core\\internals\\construction.py\u001b[0m in \u001b[0;36marrays_to_mgr\u001b[1;34m(arrays, arr_names, index, columns, dtype)\u001b[0m\n\u001b[0;32m     62\u001b[0m     \u001b[1;31m# figure out the index, if necessary\u001b[0m\u001b[1;33m\u001b[0m\u001b[1;33m\u001b[0m\u001b[1;33m\u001b[0m\u001b[0m\n\u001b[0;32m     63\u001b[0m     \u001b[1;32mif\u001b[0m \u001b[0mindex\u001b[0m \u001b[1;32mis\u001b[0m \u001b[1;32mNone\u001b[0m\u001b[1;33m:\u001b[0m\u001b[1;33m\u001b[0m\u001b[1;33m\u001b[0m\u001b[0m\n\u001b[1;32m---> 64\u001b[1;33m         \u001b[0mindex\u001b[0m \u001b[1;33m=\u001b[0m \u001b[0mextract_index\u001b[0m\u001b[1;33m(\u001b[0m\u001b[0marrays\u001b[0m\u001b[1;33m)\u001b[0m\u001b[1;33m\u001b[0m\u001b[1;33m\u001b[0m\u001b[0m\n\u001b[0m\u001b[0;32m     65\u001b[0m     \u001b[1;32melse\u001b[0m\u001b[1;33m:\u001b[0m\u001b[1;33m\u001b[0m\u001b[1;33m\u001b[0m\u001b[0m\n\u001b[0;32m     66\u001b[0m         \u001b[0mindex\u001b[0m \u001b[1;33m=\u001b[0m \u001b[0mensure_index\u001b[0m\u001b[1;33m(\u001b[0m\u001b[0mindex\u001b[0m\u001b[1;33m)\u001b[0m\u001b[1;33m\u001b[0m\u001b[1;33m\u001b[0m\u001b[0m\n",
      "\u001b[1;32m~\\anaconda3\\lib\\site-packages\\pandas\\core\\internals\\construction.py\u001b[0m in \u001b[0;36mextract_index\u001b[1;34m(data)\u001b[0m\n\u001b[0;32m    363\u001b[0m             \u001b[0mlengths\u001b[0m \u001b[1;33m=\u001b[0m \u001b[0mlist\u001b[0m\u001b[1;33m(\u001b[0m\u001b[0mset\u001b[0m\u001b[1;33m(\u001b[0m\u001b[0mraw_lengths\u001b[0m\u001b[1;33m)\u001b[0m\u001b[1;33m)\u001b[0m\u001b[1;33m\u001b[0m\u001b[1;33m\u001b[0m\u001b[0m\n\u001b[0;32m    364\u001b[0m             \u001b[1;32mif\u001b[0m \u001b[0mlen\u001b[0m\u001b[1;33m(\u001b[0m\u001b[0mlengths\u001b[0m\u001b[1;33m)\u001b[0m \u001b[1;33m>\u001b[0m \u001b[1;36m1\u001b[0m\u001b[1;33m:\u001b[0m\u001b[1;33m\u001b[0m\u001b[1;33m\u001b[0m\u001b[0m\n\u001b[1;32m--> 365\u001b[1;33m                 \u001b[1;32mraise\u001b[0m \u001b[0mValueError\u001b[0m\u001b[1;33m(\u001b[0m\u001b[1;34m\"arrays must all be same length\"\u001b[0m\u001b[1;33m)\u001b[0m\u001b[1;33m\u001b[0m\u001b[1;33m\u001b[0m\u001b[0m\n\u001b[0m\u001b[0;32m    366\u001b[0m \u001b[1;33m\u001b[0m\u001b[0m\n\u001b[0;32m    367\u001b[0m             \u001b[1;32mif\u001b[0m \u001b[0mhave_dicts\u001b[0m\u001b[1;33m:\u001b[0m\u001b[1;33m\u001b[0m\u001b[1;33m\u001b[0m\u001b[0m\n",
      "\u001b[1;31mValueError\u001b[0m: arrays must all be same length"
     ]
    }
   ],
   "source": [
    " # creating the dataframe from the scraped data and taking only first 10 \n",
    "df=pd.DataFrame({\"rank\":Rank[0:10],\"n\":Name[0:10],\"raw_artst\":Artist[0:10],\n",
    "                \"date\":Upload_date[0:10],\"view\":Views[0:10]})\n",
    "df.head()\n",
    "    "
   ]
  },
  {
   "cell_type": "markdown",
   "metadata": {},
   "source": [
    "# 2. Scrape the details team India’s international fixtures from bcci.tv. Url = https://www.bcci.tv/. You need to find following details: A) Match title (I.e. 1st ODI) B) Series C) Place D) Date E) Time Note: - From bcci.tv home page you have reach to the international fixture page through code."
   ]
  },
  {
   "cell_type": "code",
   "execution_count": 26,
   "metadata": {},
   "outputs": [],
   "source": [
    "driver.get(\"https://www.bcci.tv/\")"
   ]
  },
  {
   "cell_type": "code",
   "execution_count": 27,
   "metadata": {},
   "outputs": [],
   "source": [
    "Match_title=[]\n",
    "Series=[]\n",
    "Place=[]\n",
    "Date=[]\n",
    "Time_Note=[]"
   ]
  },
  {
   "cell_type": "code",
   "execution_count": 28,
   "metadata": {},
   "outputs": [
    {
     "data": {
      "text/plain": [
       "['ICC WORLD TEST CHAMPIONSHIP FINAL',\n",
       " 'ENGLAND V INDIA 2021',\n",
       " 'ENGLAND V INDIA 2021',\n",
       " 'ENGLAND V INDIA 2021',\n",
       " 'ENGLAND V INDIA 2021',\n",
       " 'ENGLAND V INDIA 2021']"
      ]
     },
     "execution_count": 28,
     "metadata": {},
     "output_type": "execute_result"
    }
   ],
   "source": [
    "#scraping the match title\n",
    "title=driver.find_elements_by_xpath(\"//span[@class='u-unskewed-text fixture__tournament-label u-truncated']\")\n",
    "for i in title:\n",
    "    mt=i.text\n",
    "    Match_title.append(mt) \n",
    "Match_title[0:10]"
   ]
  },
  {
   "cell_type": "code",
   "execution_count": 29,
   "metadata": {},
   "outputs": [
    {
     "data": {
      "text/plain": [
       "['Final', '1st Test', '2nd Test', '3rd Test', '4th Test', '5th Test']"
      ]
     },
     "execution_count": 29,
     "metadata": {},
     "output_type": "execute_result"
    }
   ],
   "source": [
    "#scraping the Series\n",
    "series=driver.find_elements_by_xpath(\"//strong[@class='fixture__name fixture__name--with-margin']\")\n",
    "for i in series:\n",
    "    sr=i.text\n",
    "    Series.append(sr) \n",
    "Series[0:10]"
   ]
  },
  {
   "cell_type": "code",
   "execution_count": 33,
   "metadata": {},
   "outputs": [
    {
     "data": {
      "text/plain": [
       "['The Ageas Bowl, Southampton',\n",
       " 'Trent Bridge, Nottingham',\n",
       " \"Lord's, London\",\n",
       " 'Headingley, Leeds',\n",
       " 'The Oval, London',\n",
       " 'Old Trafford, Manchester']"
      ]
     },
     "execution_count": 33,
     "metadata": {},
     "output_type": "execute_result"
    }
   ],
   "source": [
    "#scraping the Place\n",
    "place=driver.find_elements_by_xpath(\"//p[@class='fixture__additional-info']/span\")\n",
    "for i in place:\n",
    "    pl=i.text\n",
    "    Place.append(pl) \n",
    "Place[0:10]"
   ]
  },
  {
   "cell_type": "code",
   "execution_count": 34,
   "metadata": {},
   "outputs": [
    {
     "data": {
      "text/plain": [
       "['Friday 18th June',\n",
       " 'Wednesday 4th August',\n",
       " 'Thursday 12th August',\n",
       " 'Wednesday 25th August',\n",
       " 'Thursday 2nd September',\n",
       " 'Friday 10th September']"
      ]
     },
     "execution_count": 34,
     "metadata": {},
     "output_type": "execute_result"
    }
   ],
   "source": [
    "#scraping the Date\n",
    "date=driver.find_elements_by_xpath(\"//span[@class='fixture__datetime tablet-only']/strong\")\n",
    "for i in date:\n",
    "    dt=i.text\n",
    "    Date.append(dt) \n",
    "Date[0:10]"
   ]
  },
  {
   "cell_type": "code",
   "execution_count": 36,
   "metadata": {},
   "outputs": [
    {
     "data": {
      "text/plain": [
       "['Friday 18th June 15:30 IST',\n",
       " 'Wednesday 4th August 15:30 IST',\n",
       " 'Thursday 12th August 15:30 IST',\n",
       " 'Wednesday 25th August 15:30 IST',\n",
       " 'Thursday 2nd September 15:30 IST',\n",
       " 'Friday 10th September 15:30 IST']"
      ]
     },
     "execution_count": 36,
     "metadata": {},
     "output_type": "execute_result"
    }
   ],
   "source": [
    "#scraping the Time Note\n",
    "time=driver.find_elements_by_xpath(\"//div[@class='fixture__description u-unskewed-text']/span\")\n",
    "for i in time:\n",
    "    tn=i.text\n",
    "    Time_Note.append(tn) \n",
    "Time_Note[0:10]"
   ]
  },
  {
   "cell_type": "code",
   "execution_count": 37,
   "metadata": {},
   "outputs": [
    {
     "data": {
      "text/html": [
       "<div>\n",
       "<style scoped>\n",
       "    .dataframe tbody tr th:only-of-type {\n",
       "        vertical-align: middle;\n",
       "    }\n",
       "\n",
       "    .dataframe tbody tr th {\n",
       "        vertical-align: top;\n",
       "    }\n",
       "\n",
       "    .dataframe thead th {\n",
       "        text-align: right;\n",
       "    }\n",
       "</style>\n",
       "<table border=\"1\" class=\"dataframe\">\n",
       "  <thead>\n",
       "    <tr style=\"text-align: right;\">\n",
       "      <th></th>\n",
       "      <th>mt</th>\n",
       "      <th>sr</th>\n",
       "      <th>pl</th>\n",
       "      <th>dt</th>\n",
       "      <th>tn</th>\n",
       "    </tr>\n",
       "  </thead>\n",
       "  <tbody>\n",
       "    <tr>\n",
       "      <th>0</th>\n",
       "      <td>ICC WORLD TEST CHAMPIONSHIP FINAL</td>\n",
       "      <td>Final</td>\n",
       "      <td>The Ageas Bowl, Southampton</td>\n",
       "      <td>Friday 18th June</td>\n",
       "      <td>Friday 18th June 15:30 IST</td>\n",
       "    </tr>\n",
       "    <tr>\n",
       "      <th>1</th>\n",
       "      <td>ENGLAND V INDIA 2021</td>\n",
       "      <td>1st Test</td>\n",
       "      <td>Trent Bridge, Nottingham</td>\n",
       "      <td>Wednesday 4th August</td>\n",
       "      <td>Wednesday 4th August 15:30 IST</td>\n",
       "    </tr>\n",
       "    <tr>\n",
       "      <th>2</th>\n",
       "      <td>ENGLAND V INDIA 2021</td>\n",
       "      <td>2nd Test</td>\n",
       "      <td>Lord's, London</td>\n",
       "      <td>Thursday 12th August</td>\n",
       "      <td>Thursday 12th August 15:30 IST</td>\n",
       "    </tr>\n",
       "    <tr>\n",
       "      <th>3</th>\n",
       "      <td>ENGLAND V INDIA 2021</td>\n",
       "      <td>3rd Test</td>\n",
       "      <td>Headingley, Leeds</td>\n",
       "      <td>Wednesday 25th August</td>\n",
       "      <td>Wednesday 25th August 15:30 IST</td>\n",
       "    </tr>\n",
       "    <tr>\n",
       "      <th>4</th>\n",
       "      <td>ENGLAND V INDIA 2021</td>\n",
       "      <td>4th Test</td>\n",
       "      <td>The Oval, London</td>\n",
       "      <td>Thursday 2nd September</td>\n",
       "      <td>Thursday 2nd September 15:30 IST</td>\n",
       "    </tr>\n",
       "  </tbody>\n",
       "</table>\n",
       "</div>"
      ],
      "text/plain": [
       "                                  mt        sr                           pl  \\\n",
       "0  ICC WORLD TEST CHAMPIONSHIP FINAL     Final  The Ageas Bowl, Southampton   \n",
       "1               ENGLAND V INDIA 2021  1st Test     Trent Bridge, Nottingham   \n",
       "2               ENGLAND V INDIA 2021  2nd Test               Lord's, London   \n",
       "3               ENGLAND V INDIA 2021  3rd Test            Headingley, Leeds   \n",
       "4               ENGLAND V INDIA 2021  4th Test             The Oval, London   \n",
       "\n",
       "                       dt                                tn  \n",
       "0        Friday 18th June        Friday 18th June 15:30 IST  \n",
       "1    Wednesday 4th August    Wednesday 4th August 15:30 IST  \n",
       "2    Thursday 12th August    Thursday 12th August 15:30 IST  \n",
       "3   Wednesday 25th August   Wednesday 25th August 15:30 IST  \n",
       "4  Thursday 2nd September  Thursday 2nd September 15:30 IST  "
      ]
     },
     "execution_count": 37,
     "metadata": {},
     "output_type": "execute_result"
    }
   ],
   "source": [
    " # creating the dataframe from the scraped data and taking only first 10 jobs\n",
    "df=pd.DataFrame({\"mt\":Match_title[0:10],\"sr\":Series[0:10],\"pl\":Place[0:10],\n",
    "                \"dt\":Date[0:10],\"tn\":Time_Note[0:10]})\n",
    "df.head()\n"
   ]
  },
  {
   "cell_type": "markdown",
   "metadata": {},
   "source": [
    "# 3. Scrape the details of selenium exception from guru99.com. Url = https://www.guru99.com/ You need to find following details: A) Name B) Description Note: - From guru99 home page you have to reach to selenium exception handling page through code"
   ]
  },
  {
   "cell_type": "code",
   "execution_count": 38,
   "metadata": {},
   "outputs": [],
   "source": [
    "driver.get(\"https://www.guru99.com/\")"
   ]
  },
  {
   "cell_type": "code",
   "execution_count": 42,
   "metadata": {},
   "outputs": [],
   "source": [
    "# entering “Selenium exception” in search field \n",
    "search_field=driver.find_element_by_id(\"gsc-i-id2\")\n",
    "\n",
    "search_field.send_keys(\"selenium exception handling\")\n"
   ]
  },
  {
   "cell_type": "code",
   "execution_count": 43,
   "metadata": {},
   "outputs": [],
   "source": [
    "# clicking the search button\n",
    "search_button=driver.find_element_by_xpath(\"//button[@class='gsc-search-button gsc-search-button-v2']\")\n",
    "search_button.click()"
   ]
  },
  {
   "cell_type": "markdown",
   "metadata": {},
   "source": [
    "# 4. Scrape the details of State-wise GDP of India from statisticstime.com. Url = http://statisticstimes.com/ You have to find following details: A) Rank B) State C) GSDP(18-19) D) GSDP(17-18) E) Share(2017) F) GDP($ billion) Note: - From statisticstimes home page you have to reach to economy page through code. "
   ]
  },
  {
   "cell_type": "code",
   "execution_count": 16,
   "metadata": {},
   "outputs": [],
   "source": [
    "driver.get(\"http://statisticstimes.com/\")"
   ]
  },
  {
   "cell_type": "code",
   "execution_count": 18,
   "metadata": {},
   "outputs": [],
   "source": [
    "# finding the economy box\n",
    "eco=driver.find_element_by_xpath(\"//div[@class='dropdown']/button\")\n",
    "eco.click()"
   ]
  },
  {
   "cell_type": "code",
   "execution_count": 19,
   "metadata": {},
   "outputs": [],
   "source": [
    "# finding the state-wise gdp of india\n",
    "sel=driver.find_element_by_xpath(\"//a[@class='ec']\")\n",
    "sel.click()"
   ]
  },
  {
   "cell_type": "code",
   "execution_count": 20,
   "metadata": {},
   "outputs": [],
   "source": [
    "# creating empty lists for scraping data\n",
    "Rank=[]\n",
    "State=[]\n",
    "GSDP1819=[]\n",
    "GSDP1718=[]\n",
    "Share=[]\n",
    "GDP=[]"
   ]
  },
  {
   "cell_type": "code",
   "execution_count": 21,
   "metadata": {},
   "outputs": [],
   "source": [
    "#scrapping rank\n",
    "rank=driver.find_elements_by_xpath(\"//td[@class='data1']\")\n",
    "for i in rank[:32]:\n",
    "    Rank.append(i.text)"
   ]
  },
  {
   "cell_type": "code",
   "execution_count": 23,
   "metadata": {},
   "outputs": [],
   "source": [
    "#scrapping State\n",
    "state=driver.find_elements_by_xpath(\"//td[@class='name']\")\n",
    "for i in state[:32]:\n",
    "    State.append(i.text)"
   ]
  },
  {
   "cell_type": "code",
   "execution_count": 24,
   "metadata": {},
   "outputs": [],
   "source": [
    "#scrapping GSDP1819\n",
    "gsdp=driver.find_elements_by_xpath(\"//td[@class='data']\")\n",
    "for i in gsdp[:32]:\n",
    "    GSDP1819.append(i.text)"
   ]
  },
  {
   "cell_type": "code",
   "execution_count": 25,
   "metadata": {},
   "outputs": [],
   "source": [
    "#scrapping GSDP1718\n",
    "gsdp1=driver.find_elements_by_xpath(\"//td[@class='data']\")\n",
    "for i in gsdp1[:32]:\n",
    "    GSDP1718.append(i.text)"
   ]
  },
  {
   "cell_type": "code",
   "execution_count": 26,
   "metadata": {},
   "outputs": [],
   "source": [
    "#scrapping Share\n",
    "share=driver.find_elements_by_xpath(\"//td[@class='data sorting_1']\")\n",
    "for i in share[:32]:\n",
    "    Share.append(i.text)"
   ]
  },
  {
   "cell_type": "code",
   "execution_count": 27,
   "metadata": {},
   "outputs": [],
   "source": [
    "#scrapping GDP\n",
    "gdp=driver.find_elements_by_xpath(\"//td[@class='data']\")\n",
    "for i in gdp[:32]:\n",
    "    GDP.append(i.text)"
   ]
  },
  {
   "cell_type": "code",
   "execution_count": 30,
   "metadata": {},
   "outputs": [
    {
     "name": "stdout",
     "output_type": "stream",
     "text": [
      "32\n",
      "32\n",
      "32\n",
      "32\n",
      "32\n"
     ]
    }
   ],
   "source": [
    "#checking the length of each list\n",
    "print(len(Rank))\n",
    "print(len(GSDP1819))\n",
    "print(len(GSDP1718))\n",
    "print(len(Share))\n",
    "print(len(GDP))"
   ]
  },
  {
   "cell_type": "code",
   "execution_count": 32,
   "metadata": {},
   "outputs": [
    {
     "name": "stdout",
     "output_type": "stream",
     "text": [
      "   rank       gsdp      gsdp1   share        gdp\n",
      "0     1  2,632,792          -  13.88%          -\n",
      "1     2  1,630,208     13.88%   8.59%  2,632,792\n",
      "2     3  1,584,764    398.145   8.35%    398.145\n",
      "3     4  1,502,899          -   7.92%          -\n",
      "4     5  1,493,127  2,039,074   7.87%  2,039,074\n",
      "5     6  1,089,898  1,845,853   5.75%  1,845,853\n",
      "6     7    942,586      8.59%   4.97%  1,630,208\n",
      "7     8    862,957    246.529   4.55%    246.529\n",
      "8     9    861,031  1,312,929   4.54%  1,312,929\n",
      "9    10    809,592  1,215,307   4.27%  1,215,307\n",
      "10   11    781,653  1,687,818   4.12%  1,687,818\n",
      "11   12    774,870      8.35%   4.08%  1,584,764\n",
      "12   13    734,163    239.656   3.87%    239.656\n",
      "13   14    530,363  1,166,817   2.80%  1,166,817\n",
      "14   15    526,376  1,123,982   2.77%  1,123,982\n",
      "15   16    487,805          -   2.57%          -\n",
      "16   17    315,881      7.92%   1.67%  1,502,899\n",
      "17   18    304,063    227.276   1.60%    227.276\n",
      "18   19    297,204          -   1.57%          -\n",
      "19   20    245,895  1,186,379   1.30%  1,186,379\n",
      "20   21    155,956  1,631,977   0.82%  1,631,977\n",
      "21   22    153,845      7.87%   0.81%  1,493,127\n",
      "22   23     73,170    225.798   0.39%    225.798\n",
      "23   24     49,845  1,156,039   0.26%  1,156,039\n",
      "24   25     42,114  1,091,077   0.22%  1,091,077\n",
      "25   26     34,433  1,253,832   0.18%  1,253,832\n",
      "26   27     33,481      5.75%   0.18%  1,089,898\n",
      "27   28     28,723    164.820   0.15%    164.820\n",
      "28   29     27,870    793,223   0.15%    793,223\n",
      "29   30     27,283    739,525   0.14%    739,525\n",
      "30   31     24,603  1,020,989   0.13%  1,020,989\n",
      "31   32     22,287      4.97%   0.12%    942,586\n"
     ]
    }
   ],
   "source": [
    "#creating a dataframe\n",
    "df=pd.DataFrame({'rank':Rank,\n",
    "                'gsdp':GSDP1819,\n",
    "                'gsdp1':GSDP1718,\n",
    "                 'share':Share,\n",
    "                 'gdp':GDP})\n",
    "#printing dataframe\n",
    "print(df)"
   ]
  },
  {
   "cell_type": "markdown",
   "metadata": {},
   "source": [
    "# 5. Scrape the details of trending repositories on Github.com.\n",
    "Url = https://github.com/\n",
    "You have to find the following details:\n",
    "A) Repository title\n",
    "B) Repository description\n",
    "C) Contributors count\n",
    "D) Language used\n",
    "Note:From the home page you have to click on the trending option from Explore menu through code."
   ]
  },
  {
   "cell_type": "code",
   "execution_count": 33,
   "metadata": {},
   "outputs": [],
   "source": [
    "driver.get(\"https://github.com/\")"
   ]
  },
  {
   "cell_type": "code",
   "execution_count": 39,
   "metadata": {},
   "outputs": [],
   "source": [
    "Repository_title=[]\n",
    "Repository_description=[]\n",
    "Contributors_count=[]\n",
    "Language_used=[]"
   ]
  },
  {
   "cell_type": "code",
   "execution_count": 40,
   "metadata": {},
   "outputs": [],
   "source": [
    "#scrapping repository title\n",
    "title=driver.find_elements_by_xpath(\"//h1[@class='h3 lh-condensed']\")\n",
    "for i in title[:10]:\n",
    "    Repository_title.append(i.text)"
   ]
  },
  {
   "cell_type": "code",
   "execution_count": 41,
   "metadata": {},
   "outputs": [],
   "source": [
    "#scrapping Repository description\n",
    "desc=driver.find_elements_by_xpath(\"//p[@class='col-9 color-text-secondary my-1 pr-4']\")\n",
    "for i in desc[:10]:\n",
    "    Repository_description.append(i.text)"
   ]
  },
  {
   "cell_type": "code",
   "execution_count": 42,
   "metadata": {},
   "outputs": [],
   "source": [
    "#scrapping Contributors count\n",
    "count=driver.find_elements_by_xpath(\"//a[@class='Link--muted d-inline-block mr-3']\")\n",
    "for i in count[:10]:\n",
    "    Contributors_count.append(i.text)"
   ]
  },
  {
   "cell_type": "code",
   "execution_count": 43,
   "metadata": {},
   "outputs": [],
   "source": [
    "#scrapping Language used\n",
    "lng=driver.find_elements_by_xpath(\"//span[@class='d-inline-block ml-0 mr-3']\")\n",
    "for i in lng[:10]:\n",
    "    Language_used.append(i.text)"
   ]
  },
  {
   "cell_type": "code",
   "execution_count": 44,
   "metadata": {},
   "outputs": [
    {
     "name": "stdout",
     "output_type": "stream",
     "text": [
      "10\n",
      "10\n",
      "10\n",
      "10\n"
     ]
    }
   ],
   "source": [
    "#checking the length of each list\n",
    "print(len(Repository_title))\n",
    "print(len(Repository_description))\n",
    "print(len(Contributors_count))\n",
    "print(len(Language_used))\n"
   ]
  },
  {
   "cell_type": "code",
   "execution_count": 47,
   "metadata": {},
   "outputs": [
    {
     "data": {
      "text/html": [
       "<div>\n",
       "<style scoped>\n",
       "    .dataframe tbody tr th:only-of-type {\n",
       "        vertical-align: middle;\n",
       "    }\n",
       "\n",
       "    .dataframe tbody tr th {\n",
       "        vertical-align: top;\n",
       "    }\n",
       "\n",
       "    .dataframe thead th {\n",
       "        text-align: right;\n",
       "    }\n",
       "</style>\n",
       "<table border=\"1\" class=\"dataframe\">\n",
       "  <thead>\n",
       "    <tr style=\"text-align: right;\">\n",
       "      <th></th>\n",
       "      <th>title</th>\n",
       "      <th>desc</th>\n",
       "      <th>count</th>\n",
       "      <th>lng</th>\n",
       "    </tr>\n",
       "  </thead>\n",
       "  <tbody>\n",
       "    <tr>\n",
       "      <th>0</th>\n",
       "      <td>pallupz / covid-vaccine-booking</td>\n",
       "      <td>This very basic script can be used to automate...</td>\n",
       "      <td>311</td>\n",
       "      <td>Python</td>\n",
       "    </tr>\n",
       "    <tr>\n",
       "      <th>1</th>\n",
       "      <td>slidevjs / slidev</td>\n",
       "      <td>Presentation Slides for Developers (Public Bet...</td>\n",
       "      <td>127</td>\n",
       "      <td>TypeScript</td>\n",
       "    </tr>\n",
       "    <tr>\n",
       "      <th>2</th>\n",
       "      <td>Uniswap / uniswap-v3-core</td>\n",
       "      <td>🦄 🦄 🦄 Core smart contracts of Uniswap v3</td>\n",
       "      <td>3,094</td>\n",
       "      <td>TypeScript</td>\n",
       "    </tr>\n",
       "    <tr>\n",
       "      <th>3</th>\n",
       "      <td>pixie-labs / pixie</td>\n",
       "      <td>Instant Kubernetes-Native Application Observab...</td>\n",
       "      <td>74</td>\n",
       "      <td>C++</td>\n",
       "    </tr>\n",
       "    <tr>\n",
       "      <th>4</th>\n",
       "      <td>flutter / flutter</td>\n",
       "      <td>Flutter makes it easy and fast to build beauti...</td>\n",
       "      <td>816</td>\n",
       "      <td>Dart</td>\n",
       "    </tr>\n",
       "    <tr>\n",
       "      <th>5</th>\n",
       "      <td>axios / axios</td>\n",
       "      <td>Promise based HTTP client for the browser and ...</td>\n",
       "      <td>152</td>\n",
       "      <td>JavaScript</td>\n",
       "    </tr>\n",
       "    <tr>\n",
       "      <th>6</th>\n",
       "      <td>andymatuschak / orbit</td>\n",
       "      <td>very currency</td>\n",
       "      <td>1,315</td>\n",
       "      <td>TypeScript</td>\n",
       "    </tr>\n",
       "    <tr>\n",
       "      <th>7</th>\n",
       "      <td>dogecoin / dogecoin</td>\n",
       "      <td>Responsive Admin Panel or Dashboard using Flutter</td>\n",
       "      <td>54</td>\n",
       "      <td>C++</td>\n",
       "    </tr>\n",
       "    <tr>\n",
       "      <th>8</th>\n",
       "      <td>abuanwar072 / Flutter-Responsive-Admin-Panel-o...</td>\n",
       "      <td>Master the command line, in one page</td>\n",
       "      <td>120,104</td>\n",
       "      <td>Dart</td>\n",
       "    </tr>\n",
       "    <tr>\n",
       "      <th>9</th>\n",
       "      <td>jlevy / the-art-of-command-line</td>\n",
       "      <td>A collective list of free APIs</td>\n",
       "      <td>17,064</td>\n",
       "      <td>Python</td>\n",
       "    </tr>\n",
       "  </tbody>\n",
       "</table>\n",
       "</div>"
      ],
      "text/plain": [
       "                                               title  \\\n",
       "0                    pallupz / covid-vaccine-booking   \n",
       "1                                  slidevjs / slidev   \n",
       "2                          Uniswap / uniswap-v3-core   \n",
       "3                                 pixie-labs / pixie   \n",
       "4                                  flutter / flutter   \n",
       "5                                      axios / axios   \n",
       "6                              andymatuschak / orbit   \n",
       "7                                dogecoin / dogecoin   \n",
       "8  abuanwar072 / Flutter-Responsive-Admin-Panel-o...   \n",
       "9                    jlevy / the-art-of-command-line   \n",
       "\n",
       "                                                desc    count         lng  \n",
       "0  This very basic script can be used to automate...      311      Python  \n",
       "1  Presentation Slides for Developers (Public Bet...      127  TypeScript  \n",
       "2           🦄 🦄 🦄 Core smart contracts of Uniswap v3    3,094  TypeScript  \n",
       "3  Instant Kubernetes-Native Application Observab...       74         C++  \n",
       "4  Flutter makes it easy and fast to build beauti...      816        Dart  \n",
       "5  Promise based HTTP client for the browser and ...      152  JavaScript  \n",
       "6                                      very currency    1,315  TypeScript  \n",
       "7  Responsive Admin Panel or Dashboard using Flutter       54         C++  \n",
       "8               Master the command line, in one page  120,104        Dart  \n",
       "9                     A collective list of free APIs   17,064      Python  "
      ]
     },
     "execution_count": 47,
     "metadata": {},
     "output_type": "execute_result"
    }
   ],
   "source": [
    "#creating a dataframe\n",
    "df=pd.DataFrame({'title':Repository_title,\n",
    "                'desc':Repository_description,\n",
    "                'count':Contributors_count,\n",
    "                 'lng':Language_used})\n",
    "df.head(10)"
   ]
  },
  {
   "cell_type": "markdown",
   "metadata": {},
   "source": [
    "# 6. Scrape the details of top 100 songs on billiboard.com.\n",
    "Url = https://www.billboard.com/\n",
    "You have to find the following details:\n",
    "A) Song name\n",
    "B) Artist name\n",
    "C) Last week rank\n",
    "D) Peak rank\n",
    "E) Weeks on board\n",
    "Note: - From the home page you have to click on the charts option then hot 100-page link through code.\n"
   ]
  },
  {
   "cell_type": "code",
   "execution_count": 48,
   "metadata": {},
   "outputs": [],
   "source": [
    "driver.get(\" https://www.billboard.com/\")"
   ]
  },
  {
   "cell_type": "code",
   "execution_count": 49,
   "metadata": {},
   "outputs": [],
   "source": [
    "# clicking the chart check box\n",
    "loc=driver.find_element_by_xpath(\"//a[@class='header__subnav__link text--uppercase font--semi-bold']\")\n",
    "\n",
    "# clicking the check box\n",
    "loc.click()"
   ]
  },
  {
   "cell_type": "code",
   "execution_count": 50,
   "metadata": {},
   "outputs": [],
   "source": [
    "Song_name=[]\n",
    "Artist_name=[]\n",
    "Last_week_rank=[]\n",
    "Peak_rank=[]\n",
    "Weeks_on_board=[]"
   ]
  },
  {
   "cell_type": "code",
   "execution_count": 51,
   "metadata": {},
   "outputs": [],
   "source": [
    "#scrapping Song name\n",
    "song=driver.find_elements_by_xpath(\"//span[@class='chart-element__information__song text--truncate color--primary']\")\n",
    "for i in song[:100]:\n",
    "    Song_name.append(i.text)"
   ]
  },
  {
   "cell_type": "code",
   "execution_count": 52,
   "metadata": {},
   "outputs": [],
   "source": [
    "#scrapping Artist Name\n",
    "artst=driver.find_elements_by_xpath(\"//span[@class='chart-element__information__artist text--truncate color--secondary']\")\n",
    "for i in artst[:100]:\n",
    "    Artist_name.append(i.text)"
   ]
  },
  {
   "cell_type": "code",
   "execution_count": 53,
   "metadata": {},
   "outputs": [],
   "source": [
    "#scrapping Last week rank\n",
    "weekrank=driver.find_elements_by_xpath(\"//div[@class='chart-element__meta text--center color--secondary text--last']\")\n",
    "for i in weekrank[:100]:\n",
    "    Last_week_rank.append(i.text)"
   ]
  },
  {
   "cell_type": "code",
   "execution_count": 54,
   "metadata": {},
   "outputs": [],
   "source": [
    "#scrapping Peak rank\n",
    "peak=driver.find_elements_by_xpath(\"//div[@class='chart-element__meta text--center color--secondary text--peak']\")\n",
    "for i in peak[:100]:\n",
    "    Peak_rank.append(i.text)"
   ]
  },
  {
   "cell_type": "code",
   "execution_count": 55,
   "metadata": {},
   "outputs": [],
   "source": [
    "#scrapping Weeks on board\n",
    "weekonboard=driver.find_elements_by_xpath(\"//div[@class='chart-element__meta text--center color--secondary text--week']\")\n",
    "for i in weekonboard[:100]:\n",
    "    Weeks_on_board.append(i.text)"
   ]
  },
  {
   "cell_type": "code",
   "execution_count": 56,
   "metadata": {},
   "outputs": [
    {
     "name": "stdout",
     "output_type": "stream",
     "text": [
      "100\n",
      "100\n",
      "100\n",
      "100\n",
      "100\n"
     ]
    }
   ],
   "source": [
    "#checking the length of each list     \n",
    "print(len(Song_name))\n",
    "print(len(Artist_name))\n",
    "print(len(Last_week_rank))\n",
    "print(len(Peak_rank))\n",
    "print(len(Weeks_on_board))\n"
   ]
  },
  {
   "cell_type": "code",
   "execution_count": 57,
   "metadata": {},
   "outputs": [
    {
     "data": {
      "text/html": [
       "<div>\n",
       "<style scoped>\n",
       "    .dataframe tbody tr th:only-of-type {\n",
       "        vertical-align: middle;\n",
       "    }\n",
       "\n",
       "    .dataframe tbody tr th {\n",
       "        vertical-align: top;\n",
       "    }\n",
       "\n",
       "    .dataframe thead th {\n",
       "        text-align: right;\n",
       "    }\n",
       "</style>\n",
       "<table border=\"1\" class=\"dataframe\">\n",
       "  <thead>\n",
       "    <tr style=\"text-align: right;\">\n",
       "      <th></th>\n",
       "      <th>song</th>\n",
       "      <th>artst</th>\n",
       "      <th>weekrank</th>\n",
       "      <th>peak</th>\n",
       "      <th>weekonboard</th>\n",
       "    </tr>\n",
       "  </thead>\n",
       "  <tbody>\n",
       "    <tr>\n",
       "      <th>0</th>\n",
       "      <td>Save Your Tears</td>\n",
       "      <td>The Weeknd &amp; Ariana Grande</td>\n",
       "      <td>6</td>\n",
       "      <td>1</td>\n",
       "      <td>20</td>\n",
       "    </tr>\n",
       "    <tr>\n",
       "      <th>1</th>\n",
       "      <td>Leave The Door Open</td>\n",
       "      <td>Silk Sonic (Bruno Mars &amp; Anderson .Paak)</td>\n",
       "      <td>2</td>\n",
       "      <td>1</td>\n",
       "      <td>8</td>\n",
       "    </tr>\n",
       "    <tr>\n",
       "      <th>2</th>\n",
       "      <td>Peaches</td>\n",
       "      <td>Justin Bieber Featuring Daniel Caesar &amp; Giveon</td>\n",
       "      <td>3</td>\n",
       "      <td>1</td>\n",
       "      <td>6</td>\n",
       "    </tr>\n",
       "    <tr>\n",
       "      <th>3</th>\n",
       "      <td>Rapstar</td>\n",
       "      <td>Polo G</td>\n",
       "      <td>1</td>\n",
       "      <td>1</td>\n",
       "      <td>3</td>\n",
       "    </tr>\n",
       "    <tr>\n",
       "      <th>4</th>\n",
       "      <td>Levitating</td>\n",
       "      <td>Dua Lipa Featuring DaBaby</td>\n",
       "      <td>5</td>\n",
       "      <td>5</td>\n",
       "      <td>30</td>\n",
       "    </tr>\n",
       "    <tr>\n",
       "      <th>...</th>\n",
       "      <td>...</td>\n",
       "      <td>...</td>\n",
       "      <td>...</td>\n",
       "      <td>...</td>\n",
       "      <td>...</td>\n",
       "    </tr>\n",
       "    <tr>\n",
       "      <th>95</th>\n",
       "      <td>4 Da Gang</td>\n",
       "      <td>42 Dugg &amp; Roddy Ricch</td>\n",
       "      <td>100</td>\n",
       "      <td>67</td>\n",
       "      <td>4</td>\n",
       "    </tr>\n",
       "    <tr>\n",
       "      <th>96</th>\n",
       "      <td>Blame It On You</td>\n",
       "      <td>Jason Aldean</td>\n",
       "      <td>-</td>\n",
       "      <td>97</td>\n",
       "      <td>1</td>\n",
       "    </tr>\n",
       "    <tr>\n",
       "      <th>97</th>\n",
       "      <td>Wasted On You</td>\n",
       "      <td>Morgan Wallen</td>\n",
       "      <td>92</td>\n",
       "      <td>9</td>\n",
       "      <td>16</td>\n",
       "    </tr>\n",
       "    <tr>\n",
       "      <th>98</th>\n",
       "      <td>Way Less Sad</td>\n",
       "      <td>AJR</td>\n",
       "      <td>-</td>\n",
       "      <td>99</td>\n",
       "      <td>1</td>\n",
       "    </tr>\n",
       "    <tr>\n",
       "      <th>99</th>\n",
       "      <td>Clear Da Air</td>\n",
       "      <td>Moneybagg Yo</td>\n",
       "      <td>-</td>\n",
       "      <td>100</td>\n",
       "      <td>1</td>\n",
       "    </tr>\n",
       "  </tbody>\n",
       "</table>\n",
       "<p>100 rows × 5 columns</p>\n",
       "</div>"
      ],
      "text/plain": [
       "                   song                                           artst  \\\n",
       "0       Save Your Tears                      The Weeknd & Ariana Grande   \n",
       "1   Leave The Door Open        Silk Sonic (Bruno Mars & Anderson .Paak)   \n",
       "2               Peaches  Justin Bieber Featuring Daniel Caesar & Giveon   \n",
       "3               Rapstar                                          Polo G   \n",
       "4            Levitating                       Dua Lipa Featuring DaBaby   \n",
       "..                  ...                                             ...   \n",
       "95            4 Da Gang                           42 Dugg & Roddy Ricch   \n",
       "96      Blame It On You                                    Jason Aldean   \n",
       "97        Wasted On You                                   Morgan Wallen   \n",
       "98         Way Less Sad                                             AJR   \n",
       "99         Clear Da Air                                    Moneybagg Yo   \n",
       "\n",
       "   weekrank peak weekonboard  \n",
       "0         6    1          20  \n",
       "1         2    1           8  \n",
       "2         3    1           6  \n",
       "3         1    1           3  \n",
       "4         5    5          30  \n",
       "..      ...  ...         ...  \n",
       "95      100   67           4  \n",
       "96        -   97           1  \n",
       "97       92    9          16  \n",
       "98        -   99           1  \n",
       "99        -  100           1  \n",
       "\n",
       "[100 rows x 5 columns]"
      ]
     },
     "execution_count": 57,
     "metadata": {},
     "output_type": "execute_result"
    }
   ],
   "source": [
    "#creating a dataframe\n",
    "df=pd.DataFrame({'song':Song_name,\n",
    "                'artst':Artist_name,\n",
    "                'weekrank':Last_week_rank,\n",
    "                 'peak':Peak_rank,\n",
    "                'weekonboard':Weeks_on_board})\n",
    "df.head(100)"
   ]
  },
  {
   "cell_type": "markdown",
   "metadata": {},
   "source": [
    "# 7. Scrape the details of Data science recruiters from naukri.com.\n",
    "Url = https://www.naukri.com/\n",
    "You have to find the following details:\n",
    "A) Name\n",
    "B) Designation\n",
    "C) Company\n",
    "D) Skills they hire for\n",
    "E) Location\n",
    "Note: - From naukri.com homepage click on the recruiters option and the on the search pane type Data science and\n",
    "click on search. All this should be done through code"
   ]
  },
  {
   "cell_type": "code",
   "execution_count": 69,
   "metadata": {},
   "outputs": [],
   "source": [
    "driver.get(\"https://www.naukri.com/\")"
   ]
  },
  {
   "cell_type": "code",
   "execution_count": 59,
   "metadata": {},
   "outputs": [],
   "source": [
    "# clicking the chart of Recruiters box\n",
    "loc=driver.find_element_by_xpath(\"//div[@class='mTxt']\")\n",
    "\n",
    "# clicking the box\n",
    "loc.click()"
   ]
  },
  {
   "cell_type": "code",
   "execution_count": 63,
   "metadata": {},
   "outputs": [],
   "source": [
    "# entering “Data Scientist” in “Skill,Designations,Companies” field \n",
    "search_field_designation=driver.find_element_by_class_name('sugInp')\n",
    "search_field_designation.clear()\n",
    "search_field_designation.send_keys('Data Scientist')\n"
   ]
  },
  {
   "cell_type": "code",
   "execution_count": 64,
   "metadata": {},
   "outputs": [],
   "source": [
    "#locating the button and clicking it to search\n",
    "button=driver.find_element_by_class_name('btn')\n",
    "button.click()"
   ]
  },
  {
   "cell_type": "code",
   "execution_count": 65,
   "metadata": {},
   "outputs": [],
   "source": [
    "Name=[]\n",
    "Designation=[]\n",
    "Company=[]\n",
    "Skills=[]\n",
    "Location=[]"
   ]
  },
  {
   "cell_type": "code",
   "execution_count": 77,
   "metadata": {},
   "outputs": [],
   "source": [
    "#scrapping Names\n",
    "name=driver.find_elements_by_xpath(\"//span[@class='fl ellipsis']\")\n",
    "for i in name[:15]:\n",
    "    Name.append(i.text)"
   ]
  },
  {
   "cell_type": "code",
   "execution_count": 78,
   "metadata": {},
   "outputs": [],
   "source": [
    "#scrapping Designation\n",
    "desg=driver.find_elements_by_xpath(\"//span[@class='ellipsis clr']\")\n",
    "for i in desg[:15]:\n",
    "    Designation.append(i.text)"
   ]
  },
  {
   "cell_type": "code",
   "execution_count": 79,
   "metadata": {},
   "outputs": [],
   "source": [
    "#scrapping Company\n",
    "cmpny=driver.find_elements_by_xpath(\"//a[@class='ellipsis']\")\n",
    "for i in cmpny[:15]:\n",
    "    Company.append(i.text)"
   ]
  },
  {
   "cell_type": "code",
   "execution_count": 80,
   "metadata": {},
   "outputs": [],
   "source": [
    "#scrapping Skills they hire for\n",
    "skill=driver.find_elements_by_xpath(\"//div[@class='hireSec highlightable']\")\n",
    "for i in skill[:15]:\n",
    "    Skills.append(i.text)"
   ]
  },
  {
   "cell_type": "code",
   "execution_count": 81,
   "metadata": {},
   "outputs": [],
   "source": [
    "#scrapping Location\n",
    "loc=driver.find_elements_by_xpath(\"//small[@class='ellipsis']\")\n",
    "for i in loc[:15]:\n",
    "    Location.append(i.text)"
   ]
  },
  {
   "cell_type": "code",
   "execution_count": 82,
   "metadata": {},
   "outputs": [
    {
     "name": "stdout",
     "output_type": "stream",
     "text": [
      "0\n",
      "0\n",
      "0\n",
      "0\n",
      "0\n"
     ]
    }
   ],
   "source": [
    "#checking the length of each list     \n",
    "print(len(Name))\n",
    "print(len(Designation))\n",
    "print(len(Company))\n",
    "print(len(Skills))\n",
    "print(len(Location))\n"
   ]
  },
  {
   "cell_type": "code",
   "execution_count": 83,
   "metadata": {},
   "outputs": [
    {
     "data": {
      "text/html": [
       "<div>\n",
       "<style scoped>\n",
       "    .dataframe tbody tr th:only-of-type {\n",
       "        vertical-align: middle;\n",
       "    }\n",
       "\n",
       "    .dataframe tbody tr th {\n",
       "        vertical-align: top;\n",
       "    }\n",
       "\n",
       "    .dataframe thead th {\n",
       "        text-align: right;\n",
       "    }\n",
       "</style>\n",
       "<table border=\"1\" class=\"dataframe\">\n",
       "  <thead>\n",
       "    <tr style=\"text-align: right;\">\n",
       "      <th></th>\n",
       "      <th>name</th>\n",
       "      <th>desg</th>\n",
       "      <th>cmpny</th>\n",
       "      <th>skill</th>\n",
       "      <th>loc</th>\n",
       "    </tr>\n",
       "  </thead>\n",
       "  <tbody>\n",
       "  </tbody>\n",
       "</table>\n",
       "</div>"
      ],
      "text/plain": [
       "Empty DataFrame\n",
       "Columns: [name, desg, cmpny, skill, loc]\n",
       "Index: []"
      ]
     },
     "execution_count": 83,
     "metadata": {},
     "output_type": "execute_result"
    }
   ],
   "source": [
    "#creating a dataframe\n",
    "df=pd.DataFrame({'name':Name,\n",
    "                'desg':Designation,\n",
    "                'cmpny':Company,\n",
    "                 'skill':Skills,\n",
    "                'loc':Location})\n",
    "df.head(15)"
   ]
  },
  {
   "cell_type": "markdown",
   "metadata": {},
   "source": [
    "# 8. Scrape the details of Highest selling novels.\n",
    "Url = https://www.theguardian.com/news/datablog/2012/aug/09/best-selling-books-all-time-fifty-shades-greycompare/\n",
    "You have to find the following details:\n",
    "A) Book name\n",
    "B) Author name\n",
    "C) Volumes sold\n",
    "D) Publisher\n",
    "E) Genr"
   ]
  },
  {
   "cell_type": "code",
   "execution_count": 87,
   "metadata": {},
   "outputs": [],
   "source": [
    "driver.get(\"https://www.theguardian.com/news/datablog/2012/aug/09/best-selling-books-all-time-fifty-shades-greycompare/\")"
   ]
  },
  {
   "cell_type": "markdown",
   "metadata": {},
   "source": [
    "PAGE NOT FOUND "
   ]
  },
  {
   "cell_type": "markdown",
   "metadata": {},
   "source": [
    "# 9. Scrape the details most watched tv series of all time from imdb.com.\n",
    " Url = https://www.imdb.com/list/ls095964455/\n",
    "You have to find the following details:\n",
    "A) Name\n",
    "B) Year span\n",
    "C) Genre\n",
    "D) Run time\n",
    "E) Ratings\n",
    "F) Votes"
   ]
  },
  {
   "cell_type": "code",
   "execution_count": 89,
   "metadata": {},
   "outputs": [],
   "source": [
    "driver.get(\"https://www.imdb.com/list/ls095964455/\")"
   ]
  },
  {
   "cell_type": "code",
   "execution_count": 90,
   "metadata": {},
   "outputs": [],
   "source": [
    "Name=[]\n",
    "Year_span=[]\n",
    "Genre=[]\n",
    "Run_time=[]\n",
    "Ratings=[]\n",
    "Votes=[]"
   ]
  },
  {
   "cell_type": "code",
   "execution_count": 91,
   "metadata": {},
   "outputs": [],
   "source": [
    "#scrapping Names\n",
    "name=driver.find_elements_by_xpath(\"//h3[@class='lister-item-header']/a\")\n",
    "for i in name[:15]:\n",
    "    Name.append(i.text)"
   ]
  },
  {
   "cell_type": "code",
   "execution_count": 92,
   "metadata": {},
   "outputs": [],
   "source": [
    "#scrapping Year span\n",
    "year=driver.find_elements_by_xpath(\"//span[@class='lister-item-year text-muted unbold']\")\n",
    "for i in year[:15]:\n",
    "    Year_span.append(i.text)"
   ]
  },
  {
   "cell_type": "code",
   "execution_count": 93,
   "metadata": {},
   "outputs": [],
   "source": [
    "#scrapping Genre\n",
    "genre=driver.find_elements_by_xpath(\"//span[@class='genre']\")\n",
    "for i in genre[:15]:\n",
    "    Genre.append(i.text)"
   ]
  },
  {
   "cell_type": "code",
   "execution_count": 94,
   "metadata": {},
   "outputs": [],
   "source": [
    "#scrapping Run time\n",
    "runtime=driver.find_elements_by_xpath(\"//span[@class='runtime']\")\n",
    "for i in runtime[:15]:\n",
    "    Run_time.append(i.text)"
   ]
  },
  {
   "cell_type": "code",
   "execution_count": 95,
   "metadata": {},
   "outputs": [],
   "source": [
    "#scrapping Ratings\n",
    "rating=driver.find_elements_by_xpath(\"//span[@class='ipl-rating-star__rating']\")\n",
    "for i in rating[:15]:\n",
    "    Ratings.append(i.text)"
   ]
  },
  {
   "cell_type": "code",
   "execution_count": 96,
   "metadata": {},
   "outputs": [],
   "source": [
    "#scrapping Votes\n",
    "vote=driver.find_elements_by_xpath(\"//p[@class='text-muted text-small']/span\")\n",
    "for i in vote[:15]:\n",
    "    Votes.append(i.text)"
   ]
  },
  {
   "cell_type": "code",
   "execution_count": 97,
   "metadata": {},
   "outputs": [
    {
     "name": "stdout",
     "output_type": "stream",
     "text": [
      "15\n",
      "15\n",
      "15\n",
      "15\n",
      "15\n",
      "15\n"
     ]
    }
   ],
   "source": [
    "#checking the length of each list     \n",
    "print(len(Name))\n",
    "print(len(Year_span))\n",
    "print(len(Genre))\n",
    "print(len(Run_time))\n",
    "print(len(Ratings))\n",
    "print(len(Votes))\n"
   ]
  },
  {
   "cell_type": "code",
   "execution_count": 98,
   "metadata": {},
   "outputs": [
    {
     "data": {
      "text/html": [
       "<div>\n",
       "<style scoped>\n",
       "    .dataframe tbody tr th:only-of-type {\n",
       "        vertical-align: middle;\n",
       "    }\n",
       "\n",
       "    .dataframe tbody tr th {\n",
       "        vertical-align: top;\n",
       "    }\n",
       "\n",
       "    .dataframe thead th {\n",
       "        text-align: right;\n",
       "    }\n",
       "</style>\n",
       "<table border=\"1\" class=\"dataframe\">\n",
       "  <thead>\n",
       "    <tr style=\"text-align: right;\">\n",
       "      <th></th>\n",
       "      <th>name</th>\n",
       "      <th>year</th>\n",
       "      <th>genre</th>\n",
       "      <th>runtime</th>\n",
       "      <th>rating</th>\n",
       "      <th>vote</th>\n",
       "    </tr>\n",
       "  </thead>\n",
       "  <tbody>\n",
       "    <tr>\n",
       "      <th>0</th>\n",
       "      <td>Game of Thrones</td>\n",
       "      <td>(2011–2019)</td>\n",
       "      <td>Action, Adventure, Drama</td>\n",
       "      <td>57 min</td>\n",
       "      <td>9.3</td>\n",
       "      <td>TV-MA</td>\n",
       "    </tr>\n",
       "    <tr>\n",
       "      <th>1</th>\n",
       "      <td>Stranger Things</td>\n",
       "      <td>(2016– )</td>\n",
       "      <td>Drama, Fantasy, Horror</td>\n",
       "      <td>51 min</td>\n",
       "      <td></td>\n",
       "      <td>|</td>\n",
       "    </tr>\n",
       "    <tr>\n",
       "      <th>2</th>\n",
       "      <td>The Walking Dead</td>\n",
       "      <td>(2010–2022)</td>\n",
       "      <td>Drama, Horror, Thriller</td>\n",
       "      <td>44 min</td>\n",
       "      <td>Rate</td>\n",
       "      <td>57 min</td>\n",
       "    </tr>\n",
       "    <tr>\n",
       "      <th>3</th>\n",
       "      <td>13 Reasons Why</td>\n",
       "      <td>(2017–2020)</td>\n",
       "      <td>Drama, Mystery, Thriller</td>\n",
       "      <td>60 min</td>\n",
       "      <td></td>\n",
       "      <td>|</td>\n",
       "    </tr>\n",
       "    <tr>\n",
       "      <th>4</th>\n",
       "      <td>The 100</td>\n",
       "      <td>(2014–2020)</td>\n",
       "      <td>Drama, Mystery, Sci-Fi</td>\n",
       "      <td>43 min</td>\n",
       "      <td></td>\n",
       "      <td>Action, Adventure, Drama</td>\n",
       "    </tr>\n",
       "    <tr>\n",
       "      <th>5</th>\n",
       "      <td>Orange Is the New Black</td>\n",
       "      <td>(2013–2019)</td>\n",
       "      <td>Comedy, Crime, Drama</td>\n",
       "      <td>59 min</td>\n",
       "      <td></td>\n",
       "      <td>Votes:</td>\n",
       "    </tr>\n",
       "    <tr>\n",
       "      <th>6</th>\n",
       "      <td>Riverdale</td>\n",
       "      <td>(2017– )</td>\n",
       "      <td>Crime, Drama, Mystery</td>\n",
       "      <td>45 min</td>\n",
       "      <td></td>\n",
       "      <td>1,804,098</td>\n",
       "    </tr>\n",
       "    <tr>\n",
       "      <th>7</th>\n",
       "      <td>Grey's Anatomy</td>\n",
       "      <td>(2005– )</td>\n",
       "      <td>Drama, Romance</td>\n",
       "      <td>41 min</td>\n",
       "      <td></td>\n",
       "      <td>TV-14</td>\n",
       "    </tr>\n",
       "    <tr>\n",
       "      <th>8</th>\n",
       "      <td>The Flash</td>\n",
       "      <td>(2014– )</td>\n",
       "      <td>Action, Adventure, Drama</td>\n",
       "      <td>43 min</td>\n",
       "      <td></td>\n",
       "      <td>|</td>\n",
       "    </tr>\n",
       "    <tr>\n",
       "      <th>9</th>\n",
       "      <td>Arrow</td>\n",
       "      <td>(2012–2020)</td>\n",
       "      <td>Action, Adventure, Crime</td>\n",
       "      <td>42 min</td>\n",
       "      <td></td>\n",
       "      <td>51 min</td>\n",
       "    </tr>\n",
       "    <tr>\n",
       "      <th>10</th>\n",
       "      <td>Money Heist</td>\n",
       "      <td>(2017– )</td>\n",
       "      <td>Action, Crime, Mystery</td>\n",
       "      <td>70 min</td>\n",
       "      <td></td>\n",
       "      <td>|</td>\n",
       "    </tr>\n",
       "    <tr>\n",
       "      <th>11</th>\n",
       "      <td>The Big Bang Theory</td>\n",
       "      <td>(2007–2019)</td>\n",
       "      <td>Comedy, Romance</td>\n",
       "      <td>22 min</td>\n",
       "      <td></td>\n",
       "      <td>Drama, Fantasy, Horror</td>\n",
       "    </tr>\n",
       "    <tr>\n",
       "      <th>12</th>\n",
       "      <td>Black Mirror</td>\n",
       "      <td>(2011– )</td>\n",
       "      <td>Drama, Sci-Fi, Thriller</td>\n",
       "      <td>60 min</td>\n",
       "      <td></td>\n",
       "      <td>Votes:</td>\n",
       "    </tr>\n",
       "    <tr>\n",
       "      <th>13</th>\n",
       "      <td>Sherlock</td>\n",
       "      <td>(2010–2017)</td>\n",
       "      <td>Crime, Drama, Mystery</td>\n",
       "      <td>88 min</td>\n",
       "      <td></td>\n",
       "      <td>848,937</td>\n",
       "    </tr>\n",
       "    <tr>\n",
       "      <th>14</th>\n",
       "      <td>Vikings</td>\n",
       "      <td>(2013–2020)</td>\n",
       "      <td>Action, Adventure, Drama</td>\n",
       "      <td>44 min</td>\n",
       "      <td></td>\n",
       "      <td>TV-14</td>\n",
       "    </tr>\n",
       "  </tbody>\n",
       "</table>\n",
       "</div>"
      ],
      "text/plain": [
       "                       name         year                     genre runtime  \\\n",
       "0           Game of Thrones  (2011–2019)  Action, Adventure, Drama  57 min   \n",
       "1           Stranger Things     (2016– )    Drama, Fantasy, Horror  51 min   \n",
       "2          The Walking Dead  (2010–2022)   Drama, Horror, Thriller  44 min   \n",
       "3            13 Reasons Why  (2017–2020)  Drama, Mystery, Thriller  60 min   \n",
       "4                   The 100  (2014–2020)    Drama, Mystery, Sci-Fi  43 min   \n",
       "5   Orange Is the New Black  (2013–2019)      Comedy, Crime, Drama  59 min   \n",
       "6                 Riverdale     (2017– )     Crime, Drama, Mystery  45 min   \n",
       "7            Grey's Anatomy     (2005– )            Drama, Romance  41 min   \n",
       "8                 The Flash     (2014– )  Action, Adventure, Drama  43 min   \n",
       "9                     Arrow  (2012–2020)  Action, Adventure, Crime  42 min   \n",
       "10              Money Heist     (2017– )    Action, Crime, Mystery  70 min   \n",
       "11      The Big Bang Theory  (2007–2019)           Comedy, Romance  22 min   \n",
       "12             Black Mirror     (2011– )   Drama, Sci-Fi, Thriller  60 min   \n",
       "13                 Sherlock  (2010–2017)     Crime, Drama, Mystery  88 min   \n",
       "14                  Vikings  (2013–2020)  Action, Adventure, Drama  44 min   \n",
       "\n",
       "   rating                      vote  \n",
       "0     9.3                     TV-MA  \n",
       "1                                 |  \n",
       "2    Rate                    57 min  \n",
       "3                                 |  \n",
       "4          Action, Adventure, Drama  \n",
       "5                            Votes:  \n",
       "6                         1,804,098  \n",
       "7                             TV-14  \n",
       "8                                 |  \n",
       "9                            51 min  \n",
       "10                                |  \n",
       "11           Drama, Fantasy, Horror  \n",
       "12                           Votes:  \n",
       "13                          848,937  \n",
       "14                            TV-14  "
      ]
     },
     "execution_count": 98,
     "metadata": {},
     "output_type": "execute_result"
    }
   ],
   "source": [
    "#creating a dataframe\n",
    "df=pd.DataFrame({'name':Name,\n",
    "                'year':Year_span,\n",
    "                'genre':Genre,\n",
    "                'runtime':Run_time,\n",
    "                 'rating':Ratings,\n",
    "                'vote':Votes})\n",
    "df.head(100)"
   ]
  },
  {
   "cell_type": "markdown",
   "metadata": {},
   "source": [
    "# 10. Details of Datasets from UCI machine learning repositories.\n",
    " Url = https://archive.ics.uci.edu/\n",
    " You have to find the following details:\n",
    "A) Dataset name\n",
    "B) Data type\n",
    "C) Task\n",
    "D) Attribute type\n",
    "E) No of instances\n",
    "F) No of attribute\n",
    "G) Year\n",
    "Note: - from the home page you have to go to the Show All Dataset page through code"
   ]
  },
  {
   "cell_type": "code",
   "execution_count": 99,
   "metadata": {},
   "outputs": [],
   "source": [
    "driver.get(\"https://archive.ics.uci.edu/\")"
   ]
  },
  {
   "cell_type": "code",
   "execution_count": 100,
   "metadata": {},
   "outputs": [],
   "source": [
    "Dataset_name=[]\n",
    "Data_type=[]\n",
    "Task=[]\n",
    "Attribute_type=[]\n",
    "No_of_instances=[]\n",
    "No_of_attribute=[]\n",
    "Year=[]"
   ]
  },
  {
   "cell_type": "code",
   "execution_count": 106,
   "metadata": {},
   "outputs": [],
   "source": [
    " # Locating search_button for Show all Dataset by xpath\n",
    "search_button = driver.find_element_by_xpath('//span[@class=\"whitetext\"]/a')      \n",
    "search_button.click()    "
   ]
  },
  {
   "cell_type": "code",
   "execution_count": 119,
   "metadata": {},
   "outputs": [],
   "source": [
    "#scrapping Dataset name\n",
    "name=driver.find_elements_by_xpath(\"//p[@class='normal']/a\")\n",
    "for i in name[:100]:\n",
    "    Dataset_name.append(i.text)"
   ]
  },
  {
   "cell_type": "code",
   "execution_count": 108,
   "metadata": {},
   "outputs": [],
   "source": [
    "#scrapping Data type\n",
    "datatype=driver.find_elements_by_xpath(\"//p[@class='normal']\")\n",
    "for i in datatype[:100]:\n",
    "    Data_type.append(i.text)"
   ]
  },
  {
   "cell_type": "code",
   "execution_count": 109,
   "metadata": {},
   "outputs": [],
   "source": [
    "#scrapping Task\n",
    "task=driver.find_elements_by_xpath(\"//p[@class='normal']\")\n",
    "for i in task[:100]:\n",
    "    Task.append(i.text)"
   ]
  },
  {
   "cell_type": "code",
   "execution_count": 110,
   "metadata": {},
   "outputs": [],
   "source": [
    "#scrapping Attribute type\n",
    "attribute=driver.find_elements_by_xpath(\"//p[@class='normal']\")\n",
    "for i in attribute[:100]:\n",
    "    Attribute_type.append(i.text)"
   ]
  },
  {
   "cell_type": "code",
   "execution_count": 111,
   "metadata": {},
   "outputs": [],
   "source": [
    "#scrapping No_of_instances name\n",
    "instance=driver.find_elements_by_xpath(\"//p[@class='normal']\")\n",
    "for i in instance[:100]:\n",
    "    No_of_instances.append(i.text)"
   ]
  },
  {
   "cell_type": "code",
   "execution_count": 112,
   "metadata": {},
   "outputs": [],
   "source": [
    "#scrapping No_of_attributes\n",
    "atrbt=driver.find_elements_by_xpath(\"//p[@class='normal']\")\n",
    "for i in atrbt[:100]:\n",
    "    No_of_attribute.append(i.text)"
   ]
  },
  {
   "cell_type": "code",
   "execution_count": 113,
   "metadata": {},
   "outputs": [],
   "source": [
    "#scrapping year\n",
    "year=driver.find_elements_by_xpath(\"//p[@class='normal']\")\n",
    "for i in year[:100]:\n",
    "    Year.append(i.text)"
   ]
  },
  {
   "cell_type": "code",
   "execution_count": 120,
   "metadata": {},
   "outputs": [
    {
     "name": "stdout",
     "output_type": "stream",
     "text": [
      "120\n",
      "100\n",
      "100\n",
      "100\n",
      "100\n",
      "100\n",
      "100\n"
     ]
    }
   ],
   "source": [
    "#checking the length of each list     \n",
    "print(len(Dataset_name))\n",
    "print(len(Data_type))\n",
    "print(len(Task))\n",
    "print(len(Attribute_type))\n",
    "print(len(No_of_instances))\n",
    "print(len(No_of_attribute))\n",
    "print(len(Year))"
   ]
  },
  {
   "cell_type": "code",
   "execution_count": 121,
   "metadata": {},
   "outputs": [
    {
     "data": {
      "text/html": [
       "<div>\n",
       "<style scoped>\n",
       "    .dataframe tbody tr th:only-of-type {\n",
       "        vertical-align: middle;\n",
       "    }\n",
       "\n",
       "    .dataframe tbody tr th {\n",
       "        vertical-align: top;\n",
       "    }\n",
       "\n",
       "    .dataframe thead th {\n",
       "        text-align: right;\n",
       "    }\n",
       "</style>\n",
       "<table border=\"1\" class=\"dataframe\">\n",
       "  <thead>\n",
       "    <tr style=\"text-align: right;\">\n",
       "      <th></th>\n",
       "      <th>datatype</th>\n",
       "      <th>task</th>\n",
       "      <th>attribute</th>\n",
       "      <th>instance</th>\n",
       "      <th>atrbt</th>\n",
       "      <th>year</th>\n",
       "    </tr>\n",
       "  </thead>\n",
       "  <tbody>\n",
       "    <tr>\n",
       "      <th>0</th>\n",
       "      <td>Classification (442)\\nRegression (137)\\nCluste...</td>\n",
       "      <td>Classification (442)\\nRegression (137)\\nCluste...</td>\n",
       "      <td>Classification (442)\\nRegression (137)\\nCluste...</td>\n",
       "      <td>Classification (442)\\nRegression (137)\\nCluste...</td>\n",
       "      <td>Classification (442)\\nRegression (137)\\nCluste...</td>\n",
       "      <td>Classification (442)\\nRegression (137)\\nCluste...</td>\n",
       "    </tr>\n",
       "    <tr>\n",
       "      <th>1</th>\n",
       "      <td>Categorical (38)\\nNumerical (396)\\nMixed (55)</td>\n",
       "      <td>Categorical (38)\\nNumerical (396)\\nMixed (55)</td>\n",
       "      <td>Categorical (38)\\nNumerical (396)\\nMixed (55)</td>\n",
       "      <td>Categorical (38)\\nNumerical (396)\\nMixed (55)</td>\n",
       "      <td>Categorical (38)\\nNumerical (396)\\nMixed (55)</td>\n",
       "      <td>Categorical (38)\\nNumerical (396)\\nMixed (55)</td>\n",
       "    </tr>\n",
       "    <tr>\n",
       "      <th>2</th>\n",
       "      <td>Multivariate (456)\\nUnivariate (27)\\nSequentia...</td>\n",
       "      <td>Multivariate (456)\\nUnivariate (27)\\nSequentia...</td>\n",
       "      <td>Multivariate (456)\\nUnivariate (27)\\nSequentia...</td>\n",
       "      <td>Multivariate (456)\\nUnivariate (27)\\nSequentia...</td>\n",
       "      <td>Multivariate (456)\\nUnivariate (27)\\nSequentia...</td>\n",
       "      <td>Multivariate (456)\\nUnivariate (27)\\nSequentia...</td>\n",
       "    </tr>\n",
       "    <tr>\n",
       "      <th>3</th>\n",
       "      <td>Life Sciences (138)\\nPhysical Sciences (57)\\nC...</td>\n",
       "      <td>Life Sciences (138)\\nPhysical Sciences (57)\\nC...</td>\n",
       "      <td>Life Sciences (138)\\nPhysical Sciences (57)\\nC...</td>\n",
       "      <td>Life Sciences (138)\\nPhysical Sciences (57)\\nC...</td>\n",
       "      <td>Life Sciences (138)\\nPhysical Sciences (57)\\nC...</td>\n",
       "      <td>Life Sciences (138)\\nPhysical Sciences (57)\\nC...</td>\n",
       "    </tr>\n",
       "    <tr>\n",
       "      <th>4</th>\n",
       "      <td>Less than 10 (151)\\n10 to 100 (266)\\nGreater t...</td>\n",
       "      <td>Less than 10 (151)\\n10 to 100 (266)\\nGreater t...</td>\n",
       "      <td>Less than 10 (151)\\n10 to 100 (266)\\nGreater t...</td>\n",
       "      <td>Less than 10 (151)\\n10 to 100 (266)\\nGreater t...</td>\n",
       "      <td>Less than 10 (151)\\n10 to 100 (266)\\nGreater t...</td>\n",
       "      <td>Less than 10 (151)\\n10 to 100 (266)\\nGreater t...</td>\n",
       "    </tr>\n",
       "    <tr>\n",
       "      <th>...</th>\n",
       "      <td>...</td>\n",
       "      <td>...</td>\n",
       "      <td>...</td>\n",
       "      <td>...</td>\n",
       "      <td>...</td>\n",
       "      <td>...</td>\n",
       "    </tr>\n",
       "    <tr>\n",
       "      <th>95</th>\n",
       "      <td>Categorical</td>\n",
       "      <td>Categorical</td>\n",
       "      <td>Categorical</td>\n",
       "      <td>Categorical</td>\n",
       "      <td>Categorical</td>\n",
       "      <td>Categorical</td>\n",
       "    </tr>\n",
       "    <tr>\n",
       "      <th>96</th>\n",
       "      <td>16</td>\n",
       "      <td>16</td>\n",
       "      <td>16</td>\n",
       "      <td>16</td>\n",
       "      <td>16</td>\n",
       "      <td>16</td>\n",
       "    </tr>\n",
       "    <tr>\n",
       "      <th>97</th>\n",
       "      <td>4</td>\n",
       "      <td>4</td>\n",
       "      <td>4</td>\n",
       "      <td>4</td>\n",
       "      <td>4</td>\n",
       "      <td>4</td>\n",
       "    </tr>\n",
       "    <tr>\n",
       "      <th>98</th>\n",
       "      <td></td>\n",
       "      <td></td>\n",
       "      <td></td>\n",
       "      <td></td>\n",
       "      <td></td>\n",
       "      <td></td>\n",
       "    </tr>\n",
       "    <tr>\n",
       "      <th>99</th>\n",
       "      <td>Breast Cancer</td>\n",
       "      <td>Breast Cancer</td>\n",
       "      <td>Breast Cancer</td>\n",
       "      <td>Breast Cancer</td>\n",
       "      <td>Breast Cancer</td>\n",
       "      <td>Breast Cancer</td>\n",
       "    </tr>\n",
       "  </tbody>\n",
       "</table>\n",
       "<p>100 rows × 6 columns</p>\n",
       "</div>"
      ],
      "text/plain": [
       "                                             datatype  \\\n",
       "0   Classification (442)\\nRegression (137)\\nCluste...   \n",
       "1       Categorical (38)\\nNumerical (396)\\nMixed (55)   \n",
       "2   Multivariate (456)\\nUnivariate (27)\\nSequentia...   \n",
       "3   Life Sciences (138)\\nPhysical Sciences (57)\\nC...   \n",
       "4   Less than 10 (151)\\n10 to 100 (266)\\nGreater t...   \n",
       "..                                                ...   \n",
       "95                                       Categorical    \n",
       "96                                                16    \n",
       "97                                                 4    \n",
       "98                                                      \n",
       "99                                      Breast Cancer   \n",
       "\n",
       "                                                 task  \\\n",
       "0   Classification (442)\\nRegression (137)\\nCluste...   \n",
       "1       Categorical (38)\\nNumerical (396)\\nMixed (55)   \n",
       "2   Multivariate (456)\\nUnivariate (27)\\nSequentia...   \n",
       "3   Life Sciences (138)\\nPhysical Sciences (57)\\nC...   \n",
       "4   Less than 10 (151)\\n10 to 100 (266)\\nGreater t...   \n",
       "..                                                ...   \n",
       "95                                       Categorical    \n",
       "96                                                16    \n",
       "97                                                 4    \n",
       "98                                                      \n",
       "99                                      Breast Cancer   \n",
       "\n",
       "                                            attribute  \\\n",
       "0   Classification (442)\\nRegression (137)\\nCluste...   \n",
       "1       Categorical (38)\\nNumerical (396)\\nMixed (55)   \n",
       "2   Multivariate (456)\\nUnivariate (27)\\nSequentia...   \n",
       "3   Life Sciences (138)\\nPhysical Sciences (57)\\nC...   \n",
       "4   Less than 10 (151)\\n10 to 100 (266)\\nGreater t...   \n",
       "..                                                ...   \n",
       "95                                       Categorical    \n",
       "96                                                16    \n",
       "97                                                 4    \n",
       "98                                                      \n",
       "99                                      Breast Cancer   \n",
       "\n",
       "                                             instance  \\\n",
       "0   Classification (442)\\nRegression (137)\\nCluste...   \n",
       "1       Categorical (38)\\nNumerical (396)\\nMixed (55)   \n",
       "2   Multivariate (456)\\nUnivariate (27)\\nSequentia...   \n",
       "3   Life Sciences (138)\\nPhysical Sciences (57)\\nC...   \n",
       "4   Less than 10 (151)\\n10 to 100 (266)\\nGreater t...   \n",
       "..                                                ...   \n",
       "95                                       Categorical    \n",
       "96                                                16    \n",
       "97                                                 4    \n",
       "98                                                      \n",
       "99                                      Breast Cancer   \n",
       "\n",
       "                                                atrbt  \\\n",
       "0   Classification (442)\\nRegression (137)\\nCluste...   \n",
       "1       Categorical (38)\\nNumerical (396)\\nMixed (55)   \n",
       "2   Multivariate (456)\\nUnivariate (27)\\nSequentia...   \n",
       "3   Life Sciences (138)\\nPhysical Sciences (57)\\nC...   \n",
       "4   Less than 10 (151)\\n10 to 100 (266)\\nGreater t...   \n",
       "..                                                ...   \n",
       "95                                       Categorical    \n",
       "96                                                16    \n",
       "97                                                 4    \n",
       "98                                                      \n",
       "99                                      Breast Cancer   \n",
       "\n",
       "                                                 year  \n",
       "0   Classification (442)\\nRegression (137)\\nCluste...  \n",
       "1       Categorical (38)\\nNumerical (396)\\nMixed (55)  \n",
       "2   Multivariate (456)\\nUnivariate (27)\\nSequentia...  \n",
       "3   Life Sciences (138)\\nPhysical Sciences (57)\\nC...  \n",
       "4   Less than 10 (151)\\n10 to 100 (266)\\nGreater t...  \n",
       "..                                                ...  \n",
       "95                                       Categorical   \n",
       "96                                                16   \n",
       "97                                                 4   \n",
       "98                                                     \n",
       "99                                      Breast Cancer  \n",
       "\n",
       "[100 rows x 6 columns]"
      ]
     },
     "execution_count": 121,
     "metadata": {},
     "output_type": "execute_result"
    }
   ],
   "source": [
    "#creating a dataframe\n",
    "df=pd.DataFrame({'datatype':Data_type,\n",
    "                'task':Task,\n",
    "                'attribute':Attribute_type,\n",
    "                'instance':No_of_instances,\n",
    "                 'atrbt':No_of_attribute,\n",
    "                'year':Year})\n",
    "df.head(100)"
   ]
  }
 ],
 "metadata": {
  "kernelspec": {
   "display_name": "Python 3",
   "language": "python",
   "name": "python3"
  },
  "language_info": {
   "codemirror_mode": {
    "name": "ipython",
    "version": 3
   },
   "file_extension": ".py",
   "mimetype": "text/x-python",
   "name": "python",
   "nbconvert_exporter": "python",
   "pygments_lexer": "ipython3",
   "version": "3.8.3"
  }
 },
 "nbformat": 4,
 "nbformat_minor": 4
}
